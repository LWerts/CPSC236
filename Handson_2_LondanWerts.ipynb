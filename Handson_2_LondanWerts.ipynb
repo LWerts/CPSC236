{
 "cells": [
  {
   "cell_type": "markdown",
   "metadata": {},
   "source": [
    "# Selections and Loops"
   ]
  },
  {
   "cell_type": "markdown",
   "metadata": {},
   "source": [
    "## 3.1 Letter Grade Converter\n",
    "Create a program that converts number grades to letter grades.\n",
    "\n",
    "### Console:\n",
    "```powershell\n",
    "Letter Grade Converter\n",
    "\n",
    "Enter numerical grade: 90 \n",
    "Letter grade: A\n",
    "\n",
    "Continue? (y/n): y\n",
    "\n",
    "Enter numerical grade: 88 \n",
    "Letter grade: A\n",
    "\n",
    "Continue? (y/n): y\n",
    "\n",
    "Enter numerical grade: 80 \n",
    "Letter grade: B\n",
    "\n",
    "Continue? (y/n): y\n",
    "\n",
    "Enter numerical grade: 67 \n",
    "Letter grade: C\n",
    "\n",
    "Continue? (y/n): y\n",
    "\n",
    "Enter numerical grade: 59 \n",
    "Letter grade: F\n",
    "\n",
    "Continue? (y/n): n\n",
    "\n",
    "Bye!\n",
    "```\n",
    "\n",
    "### Specifications:\n",
    "- Assume that the user will enter valid integers for the grades.\n",
    "- The program should continue only if the user enters “y” or “Y” to continue.\n",
    "- The grading criteria is as follows:\n",
    "\n",
    "| Letter |\tRange |\n",
    "|---|-------|\n",
    "| A |\t88-100 |\n",
    "| B |\t80-87 |\n",
    "| C |\t67-79 |\n",
    "| D |\t60-66 |\n",
    "| F |\t<60 |"
   ]
  },
  {
   "cell_type": "code",
   "execution_count": 1,
   "metadata": {},
   "outputs": [],
   "source": [
    "### CODE HERE ###\n",
    "\n",
    "# Start up grade calculator\n",
    "resume = input(\"Resume Grade Calculator? (Y/N)\")\n",
    "\n",
    "# If Else for either wanting to use the calculator or exit\n",
    "if resume == \"Y\" or resume == \"y\":\n",
    "    grade = int(input(\"Please input your Grade: \"))\n",
    "    # If Else If Else for determining what letter grade\n",
    "    if grade >= 88:\n",
    "        print(\"You have an A!\")\n",
    "    else:\n",
    "        if grade <= 87 and grade >= 80:\n",
    "            print(\"You have a B!\")\n",
    "        else:\n",
    "            if grade <= 79 and grade >= 67:\n",
    "                print(\"You have a C!\")\n",
    "            else:\n",
    "                if grade <= 66 and grade >= 60:\n",
    "                    print(\"You have a D!\")\n",
    "                else:\n",
    "                    if grade <= 59:\n",
    "                        print(\"You have an F\")\n",
    "else:\n",
    "    if resume == \"N\" or resume == \"n\":\n",
    "        print(\"Thank you for using grade calculator\")\n",
    "\n",
    "resume = input(\"Resume Grade Calculator? (Y/N)\")"
   ]
  },
  {
   "cell_type": "markdown",
   "metadata": {},
   "source": [
    "## 3.2 - Tip Calculator\n",
    "Create a program that calculates three options for an appropriate tip to leave after a meal at a restaurant.\n",
    "\n",
    "### Console\n",
    "```powershell\n",
    "Tip Calculator\n",
    "\n",
    "Cost of meal: 52.31 \n",
    "\n",
    "15%\n",
    "Tip amount:\t7.85\n",
    "Total amount: 60.16\n",
    "\n",
    "20%\n",
    "Tip amount:\t10.46\n",
    "Total amount: 62.77\n",
    "\n",
    "25%\n",
    "Tip amount:\t13.08\n",
    "Total amount: 65.39\n",
    "```\n",
    "\n",
    "### Specifications:\n",
    "- The program should calculate and display the cost of tipping at 15%, 20%, or 25%.\n",
    "- Assume the user will enter valid data.\n",
    "- The program should round results to a maximum of two decimal places.\n",
    "\n"
   ]
  },
  {
   "cell_type": "code",
   "execution_count": 2,
   "metadata": {},
   "outputs": [],
   "source": [
    "### CODE HERE ###\n",
    "print(\"Tip Calculator\")\n",
    "\n",
    "cost = 52.31\n",
    "tipAmount1 = (((0.15 * 100) * cost) / 100)\n",
    "tipAmount2 = (((0.20 * 100) * cost) / 100)\n",
    "tipAmount3 = (((0.25 * 100) * cost) / 100)\n",
    "\n",
    "print(\"Cost of meal:\", cost)\n",
    "\n",
    "print(\"15%\")\n",
    "print(\"Tip Amount:\", round(tipAmount1, 2))\n",
    "print(\"Total Amount:\", round(tipAmount1 + cost, 2))\n",
    "\n",
    "print(\"20%\")\n",
    "print(\"Tip Amount:\", round(tipAmount2, 2))\n",
    "print(\"Total Amount:\", round(tipAmount2 + cost, 2))\n",
    "\n",
    "print(\"25%\")\n",
    "print(\"Tip Amount:\", round(tipAmount3, 2))\n",
    "print(\"Total Amount:\", round(tipAmount3 + cost,2))"
   ]
  },
  {
   "cell_type": "markdown",
   "metadata": {},
   "source": [
    "## 3.3 - Change Calculator\n",
    "Create a program that calculates the coins needed to make change for the specified number of cents.\n",
    "\n",
    "### Console\n",
    "```powershell\n",
    "Change Calculator\n",
    "\n",
    "Enter number of cents (0-99): 99\n",
    "\n",
    "Quarters: 3\n",
    "Dimes:\t2\n",
    "Nickels: 0\n",
    "Pennies: 4\n",
    "\n",
    "Continue? (y/n): y\n",
    "\n",
    "Enter number of cents (0-99): 55\n",
    "\n",
    "Quarters: 2\n",
    "Dimes:\t0\n",
    "Nickels: 1\n",
    "Pennies: 0\n",
    "\n",
    "Continue? (y/n): n \n",
    "\n",
    "Bye!\n",
    "```\n",
    "\n",
    "### Specifications\n",
    "- The program should display the minimum number of quarters, dimes, nickels, and pennies that one needs to make up the specified number of cents.\n",
    "- Assume that the user will enter a valid integer for the number of cents.\n",
    "- The program should continue only if the user enters “y” or “Y” to continue.\n"
   ]
  },
  {
   "cell_type": "code",
   "execution_count": 1,
   "metadata": {},
   "outputs": [
    {
     "name": "stdout",
     "output_type": "stream",
     "text": [
      "Change Calculator\n"
     ]
    },
    {
     "name": "stdin",
     "output_type": "stream",
     "text": [
      "\n",
      "Enter number of cents (0-99):  19\n"
     ]
    },
    {
     "name": "stdout",
     "output_type": "stream",
     "text": [
      "\n",
      "Quarters: 0\n",
      "Dimes:\t1\n",
      "Nickels: 1\n",
      "Pennies: 4\n"
     ]
    },
    {
     "name": "stdin",
     "output_type": "stream",
     "text": [
      "\n",
      "Continue? (y/n):  y\n",
      "\n",
      "Enter number of cents (0-99):  97\n"
     ]
    },
    {
     "name": "stdout",
     "output_type": "stream",
     "text": [
      "\n",
      "Quarters: 3\n",
      "Dimes:\t2\n",
      "Nickels: 0\n",
      "Pennies: 2\n"
     ]
    },
    {
     "name": "stdin",
     "output_type": "stream",
     "text": [
      "\n",
      "Continue? (y/n):  n\n"
     ]
    },
    {
     "name": "stdout",
     "output_type": "stream",
     "text": [
      "See Ya!\n"
     ]
    }
   ],
   "source": [
    "### CODE HERE ###\n",
    "\n",
    "print(\"Change Calculator\")\n",
    "while True:\n",
    "    cents = int(input(\"\\nEnter number of cents (0-99): \"))\n",
    "\n",
    "    quarters = cents // 25\n",
    "    cents %= 25\n",
    "    dimes = cents // 10\n",
    "    cents %= 10\n",
    "    nickels = cents // 5\n",
    "    cents %= 5\n",
    "    pennies = cents\n",
    "\n",
    "    print(f\"\\nQuarters: {quarters}\")\n",
    "    print(f\"Dimes:\\t{dimes}\")\n",
    "    print(f\"Nickels: {nickels}\")\n",
    "    print(f\"Pennies: {pennies}\")\n",
    "\n",
    "    cont = input(\"\\nContinue? (y/n): \").strip().lower()\n",
    "    if cont != 'y':\n",
    "        break\n",
    "\n",
    "print(\"See Ya!\")"
   ]
  },
  {
   "cell_type": "markdown",
   "metadata": {},
   "source": [
    "## 3.4 - Table of Powers\n",
    "Create a program that displays a table of squares and cubes for the specified range of numbers.\n",
    "\n",
    "### Console\n",
    "```powershell\n",
    "Table of Powers\n",
    "\n",
    "Start number: 90\n",
    "Stop number: 100\n",
    "\n",
    "Number\tSquared\tCubed\n",
    "======\t=======\t=====\n",
    "90      8100\t729000\n",
    "91      8281\t753571\n",
    "92      8464\t778688\n",
    "93      8649\t804357\n",
    "94      8836\t830584\n",
    "95      9025\t857375\n",
    "96      9216\t884736\n",
    "97      9409\t912673\n",
    "98      9604\t941192\n",
    "99      9801\t970299\n",
    "100     10000\t1000000\n",
    "```\n",
    "\n",
    "### Specifications\n",
    "- The formulas for calculating squares and cubes are:\n",
    "\n",
    "    `square = x ** 2`\n",
    "    \n",
    "    `cube = x ** 3`\n",
    "\n",
    "- Use tabs to align the columns.\n",
    "- Assume that the user will enter valid integers.\n",
    "- Make sure the user enters a start integer that’s less than the stop integer. If the user enters a start integer that’s greater than the stop integer, display an error message and give the user a chance to enter the integers again.\n"
   ]
  },
  {
   "cell_type": "code",
   "execution_count": null,
   "metadata": {},
   "outputs": [],
   "source": [
    "### CODE HERE ###\n",
    "\n",
    "print(\"Table of Powers\")\n",
    "while True:\n",
    "    start = int(input(\"Start number: \"))\n",
    "    stop = int(input(\"Stop number: \"))\n",
    "\n",
    "    if start > stop:\n",
    "        print(\"Start must be less than stop. Try again.\")\n",
    "        continue\n",
    "\n",
    "    print(\"Number\\tSquared\\tCubed\")\n",
    "    print(\"======\\t=======\\t=====\")\n",
    "    for num in range(start, stop + 1):\n",
    "        print(num, \"\\t\", num**2, \"\\t\", num**3)\n",
    "\n",
    "    if input(\"Continue? (y/n): \").lower() != 'y':\n",
    "        break\n",
    "\n",
    "print(\"See Ya!\")"
   ]
  }
 ],
 "metadata": {
  "kernelspec": {
   "display_name": "Python [conda env:base] *",
   "language": "python",
   "name": "conda-base-py"
  },
  "language_info": {
   "codemirror_mode": {
    "name": "ipython",
    "version": 3
   },
   "file_extension": ".py",
   "mimetype": "text/x-python",
   "name": "python",
   "nbconvert_exporter": "python",
   "pygments_lexer": "ipython3",
   "version": "3.12.7"
  }
 },
 "nbformat": 4,
 "nbformat_minor": 4
}
