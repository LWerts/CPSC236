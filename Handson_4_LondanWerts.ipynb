{
 "cells": [
  {
   "cell_type": "markdown",
   "metadata": {},
   "source": [
    "# List and Tuples\n",
    "\n",
    "To submit this assignment in D2l, post the link to your notebook file on your GitHub account."
   ]
  },
  {
   "cell_type": "markdown",
   "metadata": {},
   "source": [
    "## 6.1 Prime Number Checker\n",
    "Create a program that checks whether a number is a prime number and displays its factors if it is not a prime number.\n",
    "\n",
    "### Console:\n",
    "```powershell\n",
    "Prime Number Checker\n",
    "\n",
    "Please enter an integer between 1 and 5000: 5\n",
    "5 is a prime number.\n",
    "\n",
    "Try again? (y/n): y\n",
    "\n",
    "Please enter an integer between 1 and 5000: 6\n",
    "6 is NOT a prime number.\n",
    "It has 4 factors: 1 2 3 6\n",
    "\n",
    "Try again? (y/n): y\n",
    "\n",
    "Please enter an integer between 1 and 5000: 200\n",
    "200 is NOT a prime number.\n",
    "It has 12 factors: 1 2 4 5 8 10 20 25 40 50 100 200\n",
    "\n",
    "Try again? (y/n): n\n",
    "\n",
    "Bye!\n",
    "```\n",
    "\n",
    "### Specifications:\n",
    "- A prime number is divisible by two factors (1 and itself). For example, 7 is a prime number because it is only divisible by 1 and 7.\n",
    "- If the user enters an integer that's not between 1 and 5000, the program should display an error message.\n",
    "- If the number is a prime number, the program should display a message.\n",
    "If the number is not a prime number, the program should display a message. Then, it should display the number of factors for the number and a list of those factors.\n",
    "- Store the factors for each number in a list.\n",
    "- Use functions to organize the code for this program.\n"
   ]
  },
  {
   "cell_type": "code",
   "execution_count": 3,
   "metadata": {},
   "outputs": [
    {
     "name": "stdout",
     "output_type": "stream",
     "text": [
      "\n",
      "Prime Number Checker\n"
     ]
    },
    {
     "name": "stdin",
     "output_type": "stream",
     "text": [
      "\n",
      "Please enter an integer between 1 and 5000:  5\n"
     ]
    },
    {
     "name": "stdout",
     "output_type": "stream",
     "text": [
      "\n",
      "5 is a prime number.\n"
     ]
    },
    {
     "name": "stdin",
     "output_type": "stream",
     "text": [
      "\n",
      "Try again? (y/n):  n\n"
     ]
    },
    {
     "name": "stdout",
     "output_type": "stream",
     "text": [
      "\n",
      "Bye!\n"
     ]
    }
   ],
   "source": [
    "### CODE HERE ###\n",
    "def is_prime(n):\n",
    "    \"\"\"Check if a number is prime.\"\"\"\n",
    "    if n < 2:\n",
    "        return False\n",
    "    for d in range(2, int(n ** 0.5) + 1):\n",
    "        if n % d == 0:\n",
    "            return False\n",
    "    return True\n",
    "\n",
    "def get_factors(n):\n",
    "    \"\"\"Return a list of factors of a number.\"\"\"\n",
    "    return [d for d in range(1, n + 1) if n % d == 0]\n",
    "\n",
    "def prime_number_checker():\n",
    "    \"\"\"Main function to check for prime numbers and display factors.\"\"\"\n",
    "    print(\"\\nPrime Number Checker\")\n",
    "\n",
    "    while True:\n",
    "        try:\n",
    "            num = int(input(\"\\nPlease enter an integer between 1 and 5000: \"))\n",
    "            \n",
    "            # Check if the number is within range\n",
    "            if num < 1 or num > 5000:\n",
    "                print(\"Error: Number must be between 1 and 5000.\")\n",
    "                continue\n",
    "\n",
    "            # Determine if it's prime or not\n",
    "            if is_prime(num):\n",
    "                print(f\"\\n{num} is a prime number.\")\n",
    "            else:\n",
    "                factors = get_factors(num)\n",
    "                print(f\"\\n{num} is NOT a prime number.\")\n",
    "                print(f\"It has {len(factors)} factors: {' '.join(map(str, factors))}\")\n",
    "\n",
    "            # Ask if the user wants to continue\n",
    "            retry = input(\"\\nTry again? (y/n): \").strip().lower()\n",
    "            if retry != 'y':\n",
    "                break\n",
    "        except ValueError:\n",
    "            print(\"Error: Please enter a valid integer.\")\n",
    "\n",
    "    print(\"\\nExited program\")\n",
    "\n",
    "# Run the program\n",
    "prime_number_checker()\n"
   ]
  },
  {
   "cell_type": "markdown",
   "metadata": {},
   "source": [
    "## 6.2 - Contact Manager\n",
    "Create a program that a user can use to manage the primary email address and phone number for a contact.\n",
    "\n",
    "### Console\n",
    "```powershell\n",
    "Contact Manager\n",
    "\n",
    "COMMAND MENU\n",
    "list - Display all contacts\n",
    "view - View a contact\n",
    "add - Add a contact\n",
    "del - Delete a contact\n",
    "exit - Exit program\n",
    "\n",
    "Command: list\n",
    "1. Guido van Rossum\n",
    "2. Eric Idle\n",
    "\n",
    "Command: view\n",
    "Number: 2\n",
    "Name: Eric Idle\n",
    "Email: eric@ericidle.com\n",
    "Phone: +44 20 7946 0958\n",
    "\n",
    "Command: add\n",
    "Name: Mike Murach\n",
    "Email: mike@murach.com\n",
    "Phone: 559-123-4567\n",
    "Mike Murach was added.\n",
    "\n",
    "Command: del\n",
    "Number: 1\n",
    "Guido van Rossum was deleted.\n",
    "\n",
    "Command: list\n",
    "1. Eric Idle\n",
    "2. Mike Murach\n",
    "\n",
    "Command: exit\n",
    "Bye!\n",
    "```\n",
    "\n",
    "### Specifications:\n",
    "- Use a list of lists to store the data for the contacts. Provide starting data for two or more contacts.\n",
    "- For the `view` and `del` commands, display an error message if the user enters and invalid contact number.\n",
    "- When you exit the program, all changes that you made to the contact list are lost.\n",
    "\n",
    "\n"
   ]
  },
  {
   "cell_type": "code",
   "execution_count": 1,
   "metadata": {},
   "outputs": [
    {
     "name": "stdout",
     "output_type": "stream",
     "text": [
      "\n",
      "Contact Manager\n",
      "\n",
      "COMMAND MENU\n",
      "list - Display all contacts\n",
      "view - View a contact\n",
      "add - Add a contact\n",
      "del - Delete a contact\n",
      "exit - Exit program\n",
      "\n"
     ]
    },
    {
     "name": "stdin",
     "output_type": "stream",
     "text": [
      "\n",
      "Command:  add\n",
      "\n",
      "Name:  londan\n",
      "Email:  lrw1009@sru.edu\n",
      "Phone:  8142210746\n"
     ]
    },
    {
     "name": "stdout",
     "output_type": "stream",
     "text": [
      "londan was added.\n"
     ]
    },
    {
     "name": "stdin",
     "output_type": "stream",
     "text": [
      "\n",
      "Command:  view\n",
      "\n",
      "Number:  exit\n"
     ]
    },
    {
     "name": "stdout",
     "output_type": "stream",
     "text": [
      "Error: Please enter a valid number.\n"
     ]
    },
    {
     "name": "stdin",
     "output_type": "stream",
     "text": [
      "\n",
      "Command:  exit\n"
     ]
    },
    {
     "name": "stdout",
     "output_type": "stream",
     "text": [
      "\n",
      "Bye!\n"
     ]
    }
   ],
   "source": [
    "### CODE HERE ###\n",
    "def display_menu():\n",
    "    \"\"\"Displays the command menu.\"\"\"\n",
    "    print(\"\\nContact Manager\\n\")\n",
    "    print(\"COMMAND MENU\")\n",
    "    print(\"list - Display all contacts\")\n",
    "    print(\"view - View a contact\")\n",
    "    print(\"add - Add a contact\")\n",
    "    print(\"del - Delete a contact\")\n",
    "    print(\"exit - Exit program\\n\")\n",
    "\n",
    "def list_contacts(contacts):\n",
    "    \"\"\"Lists all contacts.\"\"\"\n",
    "    if not contacts:\n",
    "        print(\"\\nNo contacts available.\")\n",
    "        return\n",
    "    print(\"\\nContacts:\")\n",
    "    for i, contact in enumerate(contacts, 1):\n",
    "        print(f\"{i}. {contact['name']}\")\n",
    "\n",
    "def view_contact(contacts):\n",
    "    \"\"\"Views a specific contact.\"\"\"\n",
    "    try:\n",
    "        num = int(input(\"\\nNumber: \")) - 1\n",
    "        if num < 0 or num >= len(contacts):\n",
    "            print(\"Invalid contact number.\")\n",
    "            return\n",
    "        contact = contacts[num]\n",
    "        print(f\"\\nName: {contact['name']}\")\n",
    "        print(f\"Email: {contact['email']}\")\n",
    "        print(f\"Phone: {contact['phone']}\")\n",
    "    except ValueError:\n",
    "        print(\"Error: Please enter a valid number.\")\n",
    "\n",
    "def add_contact(contacts):\n",
    "    \"\"\"Adds a new contact.\"\"\"\n",
    "    name = input(\"\\nName: \").strip()\n",
    "    email = input(\"Email: \").strip()\n",
    "    phone = input(\"Phone: \").strip()\n",
    "    contacts.append({\"name\": name, \"email\": email, \"phone\": phone})\n",
    "    print(f\"{name} was added.\")\n",
    "\n",
    "def delete_contact(contacts):\n",
    "    \"\"\"Deletes a contact.\"\"\"\n",
    "    try:\n",
    "        num = int(input(\"\\nNumber: \")) - 1\n",
    "        if num < 0 or num >= len(contacts):\n",
    "            print(\"Invalid contact number.\")\n",
    "            return\n",
    "        deleted_contact = contacts.pop(num)\n",
    "        print(f\"{deleted_contact['name']} was deleted.\")\n",
    "    except ValueError:\n",
    "        print(\"Error: Please enter a valid number.\")\n",
    "\n",
    "def contact_manager():\n",
    "    \"\"\"Main function to manage contacts.\"\"\"\n",
    "    contacts = [\n",
    "        {\"name\": \"Guido van Rossum\", \"email\": \"guido@python.org\", \"phone\": \"+31 20 7946 0958\"},\n",
    "        {\"name\": \"Eric Idle\", \"email\": \"eric@ericidle.com\", \"phone\": \"+44 20 7946 0958\"},\n",
    "    ]\n",
    "    \n",
    "    display_menu()\n",
    "    \n",
    "    while True:\n",
    "        command = input(\"\\nCommand: \").strip().lower()\n",
    "        if command == \"list\":\n",
    "            list_contacts(contacts)\n",
    "        elif command == \"view\":\n",
    "            view_contact(contacts)\n",
    "        elif command == \"add\":\n",
    "            add_contact(contacts)\n",
    "        elif command == \"del\":\n",
    "            delete_contact(contacts)\n",
    "        elif command == \"exit\":\n",
    "            print(\"\\nExited program\")\n",
    "            break\n",
    "        else:\n",
    "            print(\"Invalid command. Try again.\")\n",
    "\n",
    "# Run the program\n",
    "contact_manager()\n"
   ]
  }
 ],
 "metadata": {
  "kernelspec": {
   "display_name": "Python [conda env:base] *",
   "language": "python",
   "name": "conda-base-py"
  },
  "language_info": {
   "codemirror_mode": {
    "name": "ipython",
    "version": 3
   },
   "file_extension": ".py",
   "mimetype": "text/x-python",
   "name": "python",
   "nbconvert_exporter": "python",
   "pygments_lexer": "ipython3",
   "version": "3.12.7"
  }
 },
 "nbformat": 4,
 "nbformat_minor": 4
}
