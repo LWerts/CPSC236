{
 "cells": [
  {
   "cell_type": "markdown",
   "metadata": {},
   "source": [
    "# Dictionaries\n",
    "\n",
    "To submit this assignment in D2l, post the link to your notebook file on your GitHub account."
   ]
  },
  {
   "cell_type": "markdown",
   "metadata": {},
   "source": [
    "## 12.1 Champion Counter\n",
    "Create a program that reads a text file that contains a list of FIFA World Cup champions and determines the country that has won the most championships.\n",
    "\n",
    "### Console:\n",
    "```powershell\n",
    "Country\t        Wins\tYears\t\n",
    "=======\t        ====\t=====\t\n",
    "Argentina       2       1978, 1986\n",
    "Brazil\t        5       1958, 1962, 1970, 1994, 2002\n",
    "England\t        1       1966\t\t\n",
    "France\t        1       1998\t\t\n",
    "Germany\t        4       1954, 1974, 1990, 2014\n",
    "Italy\t        4       1934, 1938, 1982, 2006\n",
    "Spain\t        1       2010\n",
    "Uruguay\t        2       1930, 1950\n",
    "```\n",
    "\n",
    "### Specifications:\n",
    "- Use the attached text file named `world_cup_champions.txt` that contains data like this: \n",
    "```powershell\n",
    "Year,Country,Coach,Captain \n",
    "1930,Uruguay,Alberto Suppici,José Nasazzi \n",
    "1934,Italy,Vittorio Pozzo,Gianpiero Combi \n",
    "1938,Italy,Vittorio Pozzo,Giuseppe Meazza\n",
    "...\n",
    "```\n",
    "- When the program starts, it should read the text file and use a dictionary to store the required data using the name of each country that has won the World Cup as the key.\n",
    "- The program should compile the data shown above and display the countries alphabetically.\n",
    "\n"
   ]
  },
  {
   "cell_type": "code",
   "execution_count": 7,
   "metadata": {},
   "outputs": [
    {
     "name": "stdout",
     "output_type": "stream",
     "text": [
      "{'Jul': 9762, 'Dec': 2497, 'May': 2429, 'Apr': 3463, 'Nov': 88, 'Oct': 6735, 'Mar': 1073, 'Jan': 14317, 'Feb': 4176, 'Sep': 2437, 'Aug': 15578, 'Jun': 4324}\n"
     ]
    }
   ],
   "source": [
    "### CODE HERE ###\n",
    "def read_cup_file(world_cup_champions):\n",
    "    champs = {}\n",
    "\n",
    "    with open(world_cup_champions) as file:\n",
    "        next(file)\n",
    "        for line in file:\n",
    "            year, country, _, _ = line.strip().split(\",\")\n",
    "            year = int(year)\n",
    "            if country in champs:\n",
    "                champs[country].append(year)\n",
    "            else:\n",
    "                champs[country] = [year]\n",
    "    return champs\n",
    "\n",
    "def display_champs(champs):\n",
    "    print(\"Country     Wins     Years\")\n",
    "    print(\"=======     ====     =====\")\n",
    "\n",
    "    for country in sorted(champs.keys()):\n",
    "        years = champs[country]\n",
    "        print(f\"{country:<12}{len(years):<6} {', '.join(str(y) for y in sorted(years))}\")\n",
    "\n",
    "def main():\n",
    "    world_cup_champions = \"world_cup_champions.txt\"\n",
    "    champs = read_cup_champions(world_cup_champions)\n",
    "    display_champs(champs)\n",
    "\n",
    "if _"
   ]
  },
  {
   "cell_type": "markdown",
   "metadata": {},
   "source": [
    "## 12.2 Monthly Sales\n",
    "Create a program that allows you to view and edit the sales amounts for each month of the current year.\n",
    "\n",
    "### Console:\n",
    "```powershell\n",
    "Monthly Sales program\n",
    "\n",
    "COMMAND MENU\n",
    "view\t- View sales for specified month \n",
    "edit\t- Edit sales for specified month \n",
    "totals - View sales summary for year \n",
    "exit\t- Exit program\n",
    "\n",
    "Command: view\n",
    "Three-letter Month: jan\n",
    "Sales amount for Jan is 14,317.00.\n",
    "\n",
    "Command: edit\n",
    "Three-letter Month: jan \n",
    "Sales Amount: 15293\n",
    "Sales amount for Jan is 15,293.00.\n",
    "\n",
    "Command: totals\n",
    "Yearly total: 67,855.00\n",
    "Monthly average: 5,654.58\n",
    "\n",
    "Command: view\n",
    "Three-letter Month: july \n",
    "Invalid three-letter month.\n",
    "\n",
    "Command: exit Bye!\n",
    "```\n",
    "\n",
    "### Specifications:\n",
    "- Use the attached text file named `monthly_sales.txt` that consists of rows that contain three-letter abbreviations for the month and the monthly sales.\n",
    "- The program should read the file and store the sales data for each month in a dictionary with the month abbreviation as the key for each item.\n",
    "- Whenever the sales data is edited, the program should write the changed data to the text file.\n",
    "\n",
    "\n"
   ]
  },
  {
   "cell_type": "code",
   "execution_count": 15,
   "metadata": {},
   "outputs": [
    {
     "name": "stdout",
     "output_type": "stream",
     "text": [
      "Monthly Sales program\n",
      "\n",
      "COMMAND MENU\n",
      "view   - View sales for specified month\n",
      "edit   - Edit sales for specified month\n",
      "totals - View sales summary for year\n",
      "exit   - Exit program\n"
     ]
    },
    {
     "name": "stdin",
     "output_type": "stream",
     "text": [
      "\n",
      "Command:  edit\n",
      "Month:  mar\n",
      "Sales Amount:  500\n"
     ]
    },
    {
     "name": "stdout",
     "output_type": "stream",
     "text": [
      "Sales amount for Mar is 500.00.\n",
      "\n"
     ]
    },
    {
     "name": "stdin",
     "output_type": "stream",
     "text": [
      "\n",
      "Command:  totals\n"
     ]
    },
    {
     "name": "stdout",
     "output_type": "stream",
     "text": [
      "Yearly total: 66,306.00\n",
      "Monthly average: 5,525.50\n",
      "\n"
     ]
    },
    {
     "name": "stdin",
     "output_type": "stream",
     "text": [
      "\n",
      "Command:  view\n",
      "Month:  mar\n"
     ]
    },
    {
     "name": "stdout",
     "output_type": "stream",
     "text": [
      "Sales amount for Mar is 500.00.\n",
      "\n"
     ]
    },
    {
     "name": "stdin",
     "output_type": "stream",
     "text": [
      "\n",
      "Command:  exit\n"
     ]
    },
    {
     "name": "stdout",
     "output_type": "stream",
     "text": [
      "Bye!\n"
     ]
    }
   ],
   "source": [
    "### CODE HERE ###\n",
    "def read_sales_file(monthly_sales):\n",
    "    sales = {}\n",
    "\n",
    "    with open(monthly_sales) as file:\n",
    "        for line in file:\n",
    "            month, amount = line.strip().split(\"\\t\")\n",
    "            sales[month] = int(amount)\n",
    "    return sales\n",
    "\n",
    "def write_sales_file(monthly_sales, sales):\n",
    "    with open(monthly_sales, \"w\") as file:\n",
    "        for month, amount in sales.items():\n",
    "            file.write(f\"{month}\\t{amount}\\n\")\n",
    "\n",
    "def view_sales(sales):\n",
    "    month = input(\"Month: \").capitalize()\n",
    "    if month in sales:\n",
    "        print(f\"Sales amount for {month} is {sales[month]:,.2f}.\\n\")\n",
    "    else:\n",
    "        print(\"Invalid month.\\n\")\n",
    "\n",
    "def edit_sales(sales, monthly_sales):\n",
    "    month = input(\"Month: \").capitalize()\n",
    "    if month in sales:\n",
    "        amount = int(input(\"Sales Amount: \"))\n",
    "        sales[month] = amount\n",
    "        write_sales_file(monthly_sales, sales)\n",
    "        print(f\"Sales amount for {month} is {amount:,.2f}.\\n\")\n",
    "    else:\n",
    "        print(f\"Invalid month.\\n\")\n",
    "\n",
    "def show_totals(sales):\n",
    "    total = sum(sales.values())\n",
    "    average = total / len(sales)\n",
    "    print(f\"Yearly total: {total:,.2f}\")\n",
    "    print(f\"Monthly average: {average:,.2f}\\n\")\n",
    "\n",
    "def main():\n",
    "    monthly_sales = \"monthly_sales.txt\"\n",
    "    sales = read_sales_file(monthly_sales)\n",
    "\n",
    "    print(\"Monthly Sales program\")\n",
    "    print(\"\\nCOMMAND MENU\")\n",
    "    print(\"view   - View sales for specified month\")\n",
    "    print(\"edit   - Edit sales for specified month\")\n",
    "    print(\"totals - View sales summary for year\")\n",
    "    print(\"exit   - Exit program\")\n",
    "\n",
    "    while True:\n",
    "        command = input(\"\\nCommand: \").lower()\n",
    "        if command == \"view\":\n",
    "            view_sales(sales)\n",
    "        elif command == \"edit\":\n",
    "            edit_sales(sales, monthly_sales)\n",
    "        elif command == \"totals\":\n",
    "            show_totals(sales)\n",
    "        elif command == \"exit\":\n",
    "            print(\"Program Exited\")\n",
    "            break\n",
    "        else:\n",
    "            print(\"Invalid command. Try again.\")\n",
    "\n",
    "if __name__ == \"__main__\":\n",
    "    main()"
   ]
  },
  {
   "cell_type": "code",
   "execution_count": null,
   "metadata": {},
   "outputs": [],
   "source": []
  },
  {
   "cell_type": "code",
   "execution_count": null,
   "metadata": {},
   "outputs": [],
   "source": []
  },
  {
   "cell_type": "code",
   "execution_count": null,
   "metadata": {},
   "outputs": [],
   "source": []
  }
 ],
 "metadata": {
  "kernelspec": {
   "display_name": "Python [conda env:base] *",
   "language": "python",
   "name": "conda-base-py"
  },
  "language_info": {
   "codemirror_mode": {
    "name": "ipython",
    "version": 3
   },
   "file_extension": ".py",
   "mimetype": "text/x-python",
   "name": "python",
   "nbconvert_exporter": "python",
   "pygments_lexer": "ipython3",
   "version": "3.12.7"
  }
 },
 "nbformat": 4,
 "nbformat_minor": 4
}
