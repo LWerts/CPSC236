{
 "cells": [
  {
   "cell_type": "markdown",
   "metadata": {},
   "source": [
    "# Exceptions\n",
    "\n",
    "To submit this assignment in D2l, post the link to your notebook file on your GitHub account."
   ]
  },
  {
   "cell_type": "markdown",
   "metadata": {},
   "source": [
    "## 8.1 Tip Calculator\n",
    "Add exception handling to a Tip Calculator program.\n",
    "\n",
    "### Console:\n",
    "```powershell\n",
    "Tip Calculator\n",
    "\n",
    "INPUT\n",
    "Cost of meal: ten\n",
    "Must be valid decimal number. Please try again. \n",
    "Cost of meal: -10\n",
    "Must be greater than 0. Please try again. \n",
    "Cost of meal: 52.31\n",
    "Tip percent:\t17.5\n",
    "Must be valid integer. Please try again. \n",
    "Tip percent:\t20\n",
    "\n",
    "OUTPUT\n",
    "Cost of meal:   52.31 \n",
    "Tip percent:    20%\n",
    "Tip amount:     10.46\n",
    "Total amount:   62.77\n",
    "```\n",
    "\n",
    "### Specifications:\n",
    "- The program should accept **decimal** entries like 52.31 and 15.5 for the cost of the meal.\n",
    "- The program should accept **integer** entries like 15, 20, 25 for the tip percent.\n",
    "- The program should validate both user entries. That way, the user can’t crash the program by entering invalid data.\n",
    "- The program should only accept numbers that are **greater than 0**.\n",
    "- The program should round results to a maximum of two decimal places.\n"
   ]
  },
  {
   "cell_type": "code",
   "execution_count": 1,
   "metadata": {},
   "outputs": [
    {
     "name": "stdout",
     "output_type": "stream",
     "text": [
      "Tip Calculator\n",
      "\n"
     ]
    },
    {
     "name": "stdin",
     "output_type": "stream",
     "text": [
      "Cost of meal:  99.75\n",
      "Tip percent:  77\n"
     ]
    },
    {
     "name": "stdout",
     "output_type": "stream",
     "text": [
      "\n",
      "OUTPUT\n",
      "Cost of meal: 99.75\n",
      "Tip percent: 77%\n",
      "Tip amount: 76.81\n",
      "Total amount: 176.56\n"
     ]
    }
   ],
   "source": [
    "### CODE HERE ###\n",
    "def get_meal_cost():\n",
    "    while True:\n",
    "        try:\n",
    "            cost = float(input(\"Cost of meal: \"))\n",
    "            if cost <= 0:\n",
    "                print(\"Must be greater than 0. Please try again.\")\n",
    "            else:\n",
    "                return cost\n",
    "        except ValueError:\n",
    "            print(\"Must be valid decimal number. Please try again.\")\n",
    "\n",
    "def get_tip_percent():\n",
    "    while True:\n",
    "        try:\n",
    "            tip = int(input(\"Tip percent: \"))\n",
    "            if tip <= 0:\n",
    "                print(\"Must be greater than 0. Please try again.\")\n",
    "            else:\n",
    "                return tip\n",
    "        except ValueError:\n",
    "            print(\"Must be valid integer. Please try again.\")\n",
    "\n",
    "def main():\n",
    "    print(\"Tip Calculator\\n\")\n",
    "    cost = get_meal_cost()\n",
    "    tip_percent = get_tip_percent()\n",
    "\n",
    "    tip_amount = round(cost * tip_percent / 100, 2)\n",
    "    total = round(cost + tip_amount, 2)\n",
    "\n",
    "    print(\"\\nOUTPUT\")\n",
    "    print(f\"Cost of meal: {cost:.2f}\")\n",
    "    print(f\"Tip percent: {tip_percent}%\")\n",
    "    print(f\"Tip amount: {tip_amount:.2f}\")\n",
    "    print(f\"Total amount: {total:.2f}\")\n",
    "\n",
    "main()"
   ]
  },
  {
   "cell_type": "markdown",
   "metadata": {},
   "source": [
    "## 8.2 Wizard Inventory\n",
    "\n",
    "Add exception handling to a program that keeps track of the inventory of items that a wizard can carry. If you still have Wizard Inventory from Handson_5, you can add the exception handling to that program. Otherwise, you can start this program from scratch.\n",
    "\n",
    "### Console if the program can't find the **inventory** file:\n",
    "```powershell\n",
    "The Wizard Inventory program\n",
    "\n",
    "COMMAND MENU\n",
    "walk - Walk down the path \n",
    "show - Show all items \n",
    "drop - Drop an item\n",
    "exit - Exit program\n",
    "\n",
    "Could not find inventory file!\n",
    "Wizard is starting with no inventory.\n",
    "\n",
    "Command: walk\n",
    "While walking down a path, you see a crossbow.\n",
    "Do you want to grab it? (y/n): y\n",
    "You picked up a crossbow.\n",
    "\n",
    "Command: show\n",
    "1. a crossbow\n",
    "\n",
    "Command: drop Number: x\n",
    "Invalid item number.\n",
    "```\n",
    "\n",
    "### The error message if the program can’t find the **items** file:\n",
    "```powershell\n",
    "Could not find items file.\t\n",
    "Exiting program. Bye!\t\n",
    "```\n",
    "\n",
    "### Specifications:\n",
    "- This program should read the text file named `wizard_all_items.txt` that contains all the items a wizard can carry.\n",
    "- When the user selects the walk command, the program should randomly pick one of the items that were read from the text file and give the user the option to grab it.\n",
    "- The current items that the wizard is carrying should be saved in an inventory file. Make sure to update this file every time the user grabs or drops an item.\n",
    "- The wizard can only carry four items at a time. For the drop command, display an error message if the user enters an invalid integer or an integer that doesn’t correspond with an item.\n",
    "- Handle all exceptions that might occur so that the user can’t cause the program to crash. If the all items file is missing, display an appropriate error message and exit the program.\n",
    "- If the inventory file is missing, display an appropriate error message and continue with an empty inventory for the user. That way, the program will write a new inventory file when the user adds items to the inventory."
   ]
  },
  {
   "cell_type": "code",
   "execution_count": null,
   "metadata": {},
   "outputs": [
    {
     "name": "stdout",
     "output_type": "stream",
     "text": [
      "Could not find inventory file!\n",
      "Could not find inventory file!\n",
      "The Wizard Inventory program\n",
      "\n",
      "COMMAND MENU\n",
      "walk - Walk down the path\n",
      "show - Show all items\n",
      "drop - Drop an item\n",
      "exit - Exit program\n"
     ]
    },
    {
     "name": "stdin",
     "output_type": "stream",
     "text": [
      "\n",
      "Command:  walk\n"
     ]
    },
    {
     "name": "stdout",
     "output_type": "stream",
     "text": [
      "\n",
      "While walking down a path, you see a some elven bread.\n"
     ]
    },
    {
     "name": "stdin",
     "output_type": "stream",
     "text": [
      "Do you want to grab it? (y/n):  n\n"
     ]
    },
    {
     "name": "stdout",
     "output_type": "stream",
     "text": [
      "\n",
      "COMMAND MENU\n",
      "walk - Walk down the path\n",
      "show - Show all items\n",
      "drop - Drop an item\n",
      "exit - Exit program\n"
     ]
    },
    {
     "name": "stdin",
     "output_type": "stream",
     "text": [
      "\n",
      "Command:  show\n"
     ]
    },
    {
     "name": "stdout",
     "output_type": "stream",
     "text": [
      "\n",
      "COMMAND MENU\n",
      "walk - Walk down the path\n",
      "show - Show all items\n",
      "drop - Drop an item\n",
      "exit - Exit program\n"
     ]
    }
   ],
   "source": [
    "### CODE HERE ###\n",
    "try:\n",
    "    with open(\"inventory.txt\", \"r\") as f:\n",
    "        inventory = [line.strip() for line in f.readlines()]\n",
    "except FileNotFoundError:\n",
    "    print(\"Could not find inventory file!\")\n",
    "    inventory = []\n",
    "    \n",
    "try:\n",
    "    with open(\"wizard_all_items.txt\", \"r\") as f:\n",
    "        all_items = [line.strip() for line in f.readlines()]\n",
    "except FileNotFoundError:\n",
    "    print(\"Could not find items file.\\nExiting program. Bye!\")\n",
    "    exit()\n",
    "\n",
    "import random\n",
    "\n",
    "def walk(inventory, all_items):\n",
    "    item = random.choice(all_items)\n",
    "    print(f\"\\nWhile walking down a path, you see a {item}.\")\n",
    "    choice = input(\"Do you want to grab it? (y/n): \").lower()\n",
    "    if choice == \"y\":\n",
    "        if len(inventory) < 4:\n",
    "            inventory.append(item)\n",
    "            print(f\"You picked up a {item}.\")\n",
    "        else:\n",
    "            print(\"You can't carry more than 4 items.\")\n",
    "\n",
    "def drop(inventory):\n",
    "    try:\n",
    "        number = int(input(\"Command: drop Number: \"))\n",
    "        if 1 <= number <= len(inventory):\n",
    "            removed = inventory.pop(number - 1)\n",
    "            print(f\"You dropped {removed}.\")\n",
    "        else:\n",
    "            print(\"Invalid item number.\")\n",
    "    except ValueError:\n",
    "        print(\"Invalid item number.\")\n",
    "\n",
    "def save_inventory(inventory):\n",
    "    with open(\"inventory.txt\", \"w\") as f:\n",
    "        for item in inventory:\n",
    "            f.write(item + \"\\n\")\n",
    "\n",
    "def main():\n",
    "\n",
    "    try:\n",
    "        with open(\"inventory.txt\", \"r\") as f:\n",
    "            inventory = [line.strip() for line in f]\n",
    "    except FileNotFoundError:\n",
    "        print(\"Could not find inventory file!\")\n",
    "        inventory = []\n",
    "\n",
    "    try:\n",
    "        with open(\"wizard_all_items.txt\", \"r\") as f:\n",
    "            all_items = [line.strip() for line in f]\n",
    "    except FileNotFoundError:\n",
    "        print(\"Could not find items file.\\nExiting program. Bye!\")\n",
    "        return\n",
    "\n",
    "    print(\"The Wizard Inventory program\")\n",
    "    while True:\n",
    "        print(\"\\nCOMMAND MENU\")\n",
    "        print(\"walk - Walk down the path\")\n",
    "        print(\"show - Show all items\")\n",
    "        print(\"drop - Drop an item\")\n",
    "        print(\"exit - Exit program\")\n",
    "\n",
    "        command = input(\"\\nCommand: \").lower()\n",
    "        if command == \"walk\":\n",
    "            walk(inventory, all_items)\n",
    "        elif command == \"show\":\n",
    "            for i, item in enumerate(inventory, start=1):\n",
    "                print(f\"{i}. {item}\")\n",
    "        elif command == \"drop\":\n",
    "            drop(inventory)\n",
    "        elif command == \"exit\":\n",
    "            save_inventory(inventory)\n",
    "            print(\"Bye!\")\n",
    "            break\n",
    "        else:\n",
    "            print(\"Invalid command.\")\n",
    "\n",
    "main()"
   ]
  },
  {
   "cell_type": "code",
   "execution_count": null,
   "metadata": {},
   "outputs": [],
   "source": []
  }
 ],
 "metadata": {
  "kernelspec": {
   "display_name": "Python [conda env:base] *",
   "language": "python",
   "name": "conda-base-py"
  },
  "language_info": {
   "codemirror_mode": {
    "name": "ipython",
    "version": 3
   },
   "file_extension": ".py",
   "mimetype": "text/x-python",
   "name": "python",
   "nbconvert_exporter": "python",
   "pygments_lexer": "ipython3",
   "version": "3.12.7"
  }
 },
 "nbformat": 4,
 "nbformat_minor": 4
}
